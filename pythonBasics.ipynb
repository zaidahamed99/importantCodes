{
 "cells": [
  {
   "cell_type": "markdown",
   "metadata": {
    "id": "mjqxNx1dj-59"
   },
   "source": [
    "# REVERSING A NUMBER "
   ]
  },
  {
   "cell_type": "code",
   "execution_count": 1,
   "metadata": {
    "colab": {
     "base_uri": "https://localhost:8080/"
    },
    "id": "PdRc56v_id92",
    "outputId": "f106b29f-6855-467a-f773-c69e0570dcd5"
   },
   "outputs": [
    {
     "name": "stdin",
     "output_type": "stream",
     "text": [
      "Enter number:  5\n"
     ]
    },
    {
     "name": "stdout",
     "output_type": "stream",
     "text": [
      "Your input number is:  5\n",
      "\n",
      " Reverse of entered number is = 5\n"
     ]
    }
   ],
   "source": [
    "Number = int(input(\"Enter number: \"))\n",
    "print('Your input number is: ', Number)\n",
    "\n",
    "Reverse = 0    \n",
    "while(Number > 0):    \n",
    "    Reminder = Number %10    \n",
    "    Reverse = (Reverse *10) + Reminder    \n",
    "    Number = Number //10    \n",
    "     \n",
    "print(\"\\n Reverse of entered number is = %d\" %Reverse) "
   ]
  },
  {
   "cell_type": "markdown",
   "metadata": {
    "id": "4parJZohlL_D"
   },
   "source": [
    "FACTORIAL OF A NUMBER"
   ]
  },
  {
   "cell_type": "code",
   "execution_count": 10,
   "metadata": {
    "colab": {
     "base_uri": "https://localhost:8080/"
    },
    "id": "ydlCEuRskP0a",
    "outputId": "83238665-2cba-4639-fe69-88c8d344ca17"
   },
   "outputs": [
    {
     "name": "stdout",
     "output_type": "stream",
     "text": [
      "Enter number: 3\n",
      "Your input number is:  3\n",
      "The factorial of 3 is 6\n"
     ]
    }
   ],
   "source": [
    "num = int(input(\"Enter number: \"))\n",
    "print('Your input number is: ', num)\n",
    "\n",
    "factorial = 1    \n",
    "if num < 0:    \n",
    "   print(\" Factorial does not exist for negative numbers\")    \n",
    "elif num == 0:    \n",
    "   print(\"The factorial of 0 is 1\")    \n",
    "else:    \n",
    "   for i in range(1,num + 1):    \n",
    "       factorial = factorial*i    \n",
    "   print(\"The factorial of\",num,\"is\",factorial)  \n",
    "\n"
   ]
  },
  {
   "cell_type": "markdown",
   "metadata": {
    "id": "6z8xauL0m1Bg"
   },
   "source": [
    "ARMSTRONG NUMBER"
   ]
  },
  {
   "cell_type": "code",
   "execution_count": 19,
   "metadata": {
    "colab": {
     "base_uri": "https://localhost:8080/"
    },
    "id": "iQFZOjopltzf",
    "outputId": "18c6db31-c0b5-4e30-9505-f975c791262a"
   },
   "outputs": [
    {
     "name": "stdout",
     "output_type": "stream",
     "text": [
      "Enter a number: 1634\n",
      "1634 is an Armstrong number\n"
     ]
    }
   ],
   "source": [
    "# take input from the user\n",
    "num = int(input(\"Enter a number: \"))\n",
    "\n",
    "# Count the number of digits\n",
    "n=num\n",
    "count=0\n",
    "while(n>0):\n",
    "    count=count+1\n",
    "    n=n//10\n",
    "\n",
    "# initialize sum\n",
    "sum = 0\n",
    "\n",
    "# find the root of the 'count' of each digit\n",
    "temp = num\n",
    "while temp > 0:\n",
    "   digit = temp % 10\n",
    "   sum += digit ** count\n",
    "   temp //= 10\n",
    "\n",
    "# display the result\n",
    "if num == sum:\n",
    "   print(num,\"is an Armstrong number\")\n",
    "else:\n",
    "   print(num,\"is not an Armstrong number\")"
   ]
  },
  {
   "cell_type": "markdown",
   "metadata": {
    "id": "AQu7LjTVnn2A"
   },
   "source": [
    "SWAP A NUMBER "
   ]
  },
  {
   "cell_type": "code",
   "execution_count": 22,
   "metadata": {
    "colab": {
     "base_uri": "https://localhost:8080/"
    },
    "id": "T3WR1-lQnD3v",
    "outputId": "fd7f3cc9-a15e-495e-8a26-cd92e67af4b4"
   },
   "outputs": [
    {
     "name": "stdout",
     "output_type": "stream",
     "text": [
      "x: 5\n",
      "y: 10\n",
      "x =  10\n",
      "y =  5\n"
     ]
    }
   ],
   "source": [
    "x = int(input(\"x: \"))\n",
    "y = int(input(\"y: \"))\n",
    "\n",
    "temp = x\n",
    "x = y\n",
    "y = temp\n",
    "\n",
    "print('x = ', x)\n",
    "print('y = ', y)"
   ]
  },
  {
   "cell_type": "markdown",
   "metadata": {
    "id": "8oeJvRLzq6ov"
   },
   "source": [
    "RIGHT ROTATION OF AN ARRAY"
   ]
  },
  {
   "cell_type": "code",
   "execution_count": 33,
   "metadata": {
    "colab": {
     "base_uri": "https://localhost:8080/"
    },
    "id": "vDH4V1S7qIHk",
    "outputId": "1bec9649-f37f-474d-d97b-5eb6c5e55b6f"
   },
   "outputs": [
    {
     "name": "stdout",
     "output_type": "stream",
     "text": [
      "position: 3\n",
      "Original array:  [1, 2, 3, 4, 5]\n",
      "\n",
      "Array after right rotation:  [3, 4, 5, 1, 2]\n"
     ]
    }
   ],
   "source": [
    "#Initialize array     \n",
    "arr = [1, 2, 3, 4, 5]    \n",
    "\n",
    "#n determine the number of times an array should be rotated    \n",
    "n = int(input(\"position: \"))  \n",
    "     \n",
    "#Displays original array    \n",
    "print(\"Original array: \", arr);       \n",
    "     \n",
    "#Rotate the given array by n times toward right    \n",
    "for i in range(0, n):    \n",
    "    #Stores the last element of array    \n",
    "    last = arr[len(arr)-1];    \n",
    "        \n",
    "    for j in range(len(arr)-1, -1, -1):    \n",
    "        #Shift element of array by one    \n",
    "        arr[j] = arr[j-1];    \n",
    "            \n",
    "    #Last element of the array will be added to the start of the array.    \n",
    "    arr[0] = last;    \n",
    "     \n",
    "print();    \n",
    "     \n",
    "#Displays resulting array after rotation    \n",
    "print(\"Array after right rotation: \", arr);    "
   ]
  },
  {
   "cell_type": "markdown",
   "metadata": {
    "id": "w1oyjrTBsSKR"
   },
   "source": [
    "UNIQUE WORDS IN A SENTENCE "
   ]
  },
  {
   "cell_type": "code",
   "execution_count": 34,
   "metadata": {
    "colab": {
     "base_uri": "https://localhost:8080/"
    },
    "id": "J10HwnIjrUv_",
    "outputId": "4e116194-31eb-48b3-bf09-87e48f7d2386"
   },
   "outputs": [
    {
     "name": "stdout",
     "output_type": "stream",
     "text": [
      "['a', 'across', 'an', 'apple', 'away', 'beside', 'big', 'came', 'cat', 'company', 'day', 'device', 'doctor', 'fat', 'is', 'keeps', 'like', 'office', 'others', 'owns', 'people', 'phones', 'road', 'samsung', 'some', 'the', 'very', 'while']\n"
     ]
    }
   ],
   "source": [
    "text = \"Apple is a very big company. An apple a day keeps a doctor away. A big fat cat came across the road beside doctor's office. The doctor owns apple device. Some people like Apple phones, while others like Samsung\"\n",
    "\n",
    "#cleaning\n",
    "text = text.lower()\n",
    "words = text.split()\n",
    "words = [word.strip('.,!;()[]') for word in words]\n",
    "words = [word.replace(\"'s\", '') for word in words]\n",
    "\n",
    "#finding unique\n",
    "unique = []\n",
    "for word in words:\n",
    "    if word not in unique:\n",
    "        unique.append(word)\n",
    "\n",
    "#sort\n",
    "unique.sort()\n",
    "\n",
    "#print\n",
    "print(unique)"
   ]
  },
  {
   "cell_type": "markdown",
   "metadata": {
    "id": "aWAKS_I6sqZ8"
   },
   "source": [
    "PRIME NUMBER CHECK"
   ]
  },
  {
   "cell_type": "code",
   "execution_count": 36,
   "metadata": {
    "colab": {
     "base_uri": "https://localhost:8080/"
    },
    "id": "b0dt8CAksag0",
    "outputId": "edd6c5df-715c-4ea2-d1be-5885bf669bec"
   },
   "outputs": [
    {
     "name": "stdout",
     "output_type": "stream",
     "text": [
      "Enter a number: 10\n",
      "10 is not a prime number\n"
     ]
    }
   ],
   "source": [
    "num = int(input(\"Enter a number: \"))\n",
    "\n",
    "# define a flag variable\n",
    "flag = False\n",
    "\n",
    "# prime numbers are greater than 1\n",
    "if num > 1:\n",
    "    # check for factors\n",
    "    for i in range(2, num):\n",
    "        if (num % i) == 0:\n",
    "            # if factor is found, set flag to True\n",
    "            flag = True\n",
    "            # break out of loop\n",
    "            break\n",
    "\n",
    "# check if flag is True\n",
    "if flag:\n",
    "    print(num, \"is not a prime number\")\n",
    "else:\n",
    "    print(num, \"is a prime number\")"
   ]
  },
  {
   "cell_type": "markdown",
   "metadata": {
    "id": "bU0wovL8tIrb"
   },
   "source": [
    "LCM OF TWO NUMBERS"
   ]
  },
  {
   "cell_type": "code",
   "execution_count": 37,
   "metadata": {
    "colab": {
     "base_uri": "https://localhost:8080/"
    },
    "id": "QoasL_Oxs0vV",
    "outputId": "8f4f56f3-2f78-4848-eaa4-505fb4d8797a"
   },
   "outputs": [
    {
     "name": "stdout",
     "output_type": "stream",
     "text": [
      "Enter a number: 10\n",
      "Enter a number: 15\n",
      "The L.C.M. is 30\n"
     ]
    }
   ],
   "source": [
    "def compute_lcm(x, y):\n",
    "\n",
    "   # choose the greater number\n",
    "   if x > y:\n",
    "       greater = x\n",
    "   else:\n",
    "       greater = y\n",
    "\n",
    "   while(True):\n",
    "       if((greater % x == 0) and (greater % y == 0)):\n",
    "           lcm = greater\n",
    "           break\n",
    "       greater += 1\n",
    "\n",
    "   return lcm\n",
    "\n",
    "num1 = int(input(\"Enter a number: \"))\n",
    "num2 = int(input(\"Enter a number: \"))\n",
    "\n",
    "print(\"The L.C.M. is\", compute_lcm(num1, num2))"
   ]
  },
  {
   "cell_type": "code",
   "execution_count": 40,
   "metadata": {
    "colab": {
     "base_uri": "https://localhost:8080/"
    },
    "id": "Ez3WGLX2tWTT",
    "outputId": "781e565e-ad5a-4be4-8f84-9f0efa3b637a"
   },
   "outputs": [
    {
     "name": "stdout",
     "output_type": "stream",
     "text": [
      "Program to print star pattern in different style: \n",
      "\n",
      "Please enter the number of rows5\n",
      "* * * * * \n",
      "* * * * \n",
      "* * * \n",
      "* * \n",
      "* \n"
     ]
    }
   ],
   "source": [
    "print(\"Program to print star pattern in different style: \\n\");\n",
    "num_rows = int(input('Please enter the number of rows'));\n",
    "for i in range (0,num_rows):\n",
    "  for j in range (num_rows,i,-1):\n",
    "    print(\"* \", end=\"\")\n",
    "  print()"
   ]
  }
 ],
 "metadata": {
  "colab": {
   "name": "Talha.ipynb",
   "provenance": []
  },
  "kernelspec": {
   "display_name": "Python 3 (ipykernel)",
   "language": "python",
   "name": "python3"
  },
  "language_info": {
   "codemirror_mode": {
    "name": "ipython",
    "version": 3
   },
   "file_extension": ".py",
   "mimetype": "text/x-python",
   "name": "python",
   "nbconvert_exporter": "python",
   "pygments_lexer": "ipython3",
   "version": "3.9.7"
  }
 },
 "nbformat": 4,
 "nbformat_minor": 4
}
